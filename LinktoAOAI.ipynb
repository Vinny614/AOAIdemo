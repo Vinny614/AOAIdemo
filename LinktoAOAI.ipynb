{
  "cells": [
    {
      "cell_type": "markdown",
      "source": [
        "## Link to AOAI\n",
        "First make sure you have created an AML environment and jupyter kernel as in Notebook 1.\n",
        "\n",
        "Test that you have selected the correct code by running the cell below."
      ],
      "metadata": {
        "nteract": {
          "transient": {
            "deleting": false
          }
        }
      }
    },
    {
      "cell_type": "code",
      "source": [
        "import emoji\n",
        "print(emoji.emojize('Python is :thumbs_up:'))"
      ],
      "outputs": [
        {
          "output_type": "stream",
          "name": "stdout",
          "text": "Python is 👍\n"
        }
      ],
      "execution_count": 1,
      "metadata": {
        "gather": {
          "logged": 1718808514675
        }
      }
    },
    {
      "cell_type": "markdown",
      "source": [
        "- Create Azure OpenAI Resource [Detailed Instructions](https://learn.microsoft.com/en-us/azure/ai-services/openai/how-to/create-resource?pivots=web-portal)\n",
        "\n",
        "- Rename credentials_template.env to credentials.env [Detailed Instructions](https://learn.microsoft.com/en-us/azure/ai-services/openai/quickstart?tabs=command-line%2Cpython-new&pivots=programming-language-python#retrieve-key-and-endpoint)\n",
        "- Fill in the credentials.env\n"
      ],
      "metadata": {}
    },
    {
      "cell_type": "code",
      "source": [
        "# Loads in environement varaibles from credentials.env. \n",
        "# Note that if you change the contents of credentials.env you will need to restart your python kernel as well as rerun this cell.\n",
        "import os\n",
        "from openai import AzureOpenAI\n",
        "from dotenv import load_dotenv\n",
        "load_dotenv(\"credentials.env\")\n",
        "\n",
        "endpoint = os.environ.get(\"AZURE_OPENAI_ENDPOINT\")\n",
        "api_key = os.environ.get(\"AZURE_OPENAI_API_KEY\")\n",
        "deployment = os.environ.get(\"AZURE_OPENAI_DEPLOYMENT_ID\")\n",
        "\n"
      ],
      "outputs": [],
      "execution_count": 30,
      "metadata": {
        "gather": {
          "logged": 1718813279249
        }
      }
    },
    {
      "cell_type": "code",
      "source": [
        "print(\"Endpoint: \", endpoint)\n",
        "print(\"API Key: \", api_key)\n",
        "print(\"Deployment: \", deployment)"
      ],
      "outputs": [
        {
          "output_type": "stream",
          "name": "stdout",
          "text": "Endpoint:  https://bootcamp-vinny.openai.azure.com/\nAPI Key:  c8b1764ad0c546e7b411c182423a704e\nDeployment:  Bootcamp\n"
        }
      ],
      "execution_count": 3,
      "metadata": {
        "gather": {
          "logged": 1718808545271
        }
      }
    },
    {
      "cell_type": "code",
      "source": [
        "client = AzureOpenAI(\n",
        "    azure_endpoint=endpoint,\n",
        "    api_key=api_key,\n",
        "    api_version=\"2024-02-01\",\n",
        ")"
      ],
      "outputs": [],
      "execution_count": null,
      "metadata": {}
    },
    {
      "cell_type": "code",
      "source": [
        "\n",
        "response = client.chat.completions.create(\n",
        "    model=deployment,\n",
        "    messages=[\n",
        "        {\"role\": \"system\", \"content\": \"You are a helpful travel assistant. You must answer like Gandalf from Lord of the Rings\"},\n",
        "        {\"role\": \"user\", \"content\": \"Can you recomend me a walking holiday in Europe?\"},\n",
        "    ]\n",
        ")\n",
        "\n",
        "print(response.choices[0].message.content)"
      ],
      "outputs": [
        {
          "output_type": "stream",
          "name": "stdout",
          "text": "Ah, a walking holiday, you say? If you seek adventure and breathtaking scenery, I would recommend the Camino de Santiago in Spain. It is a renowned pilgrimage route with diverse landscapes, charming towns, and the opportunity to meet fellow travelers. One does not simply walk the Camino without being touched by its magic.\n"
        }
      ],
      "execution_count": 19,
      "metadata": {
        "gather": {
          "logged": 1718811016761
        }
      }
    },
    {
      "cell_type": "code",
      "source": [
        "article = \"\"\"U.S. intelligence agencies will soon be using a secretive generative artificial intelligence (AI) platform from Microsoft that will let America's spies safely use AI models in the process of analyzing sensitive data.\n",
        "Microsoft's generative AI model for intelligence agencies aims to get around security issues that stem from large language models' (LLMs) connection to the internet, which typically is used as a resource for training those models. Bloomberg reported that the AI tool is the first major LLM fully separated from the internet.\n",
        "William Chappell, Microsoft's CTO for strategic missions and technology, told Bloomberg the AI tool was deployed to an \"air-gapped\" cloud environment isolated from the internet and features a model based on GPT-4 along with supporting tools. The company announced the new product at the AI Expo for National Competitiveness this week.\n",
        "\"This is the first time we've ever had an isolated version — when isolated means it's not connected to the internet — and it's on a special network that's only accessible by the U.S. government,\" Chappell told Bloomberg.\"\"\"\n",
        "\n",
        "response = client.chat.completions.create(\n",
        "    model=deployment,\n",
        "    messages=[\n",
        "        {\"role\": \"system\", \"content\": \"You are a helpful assistant.\"},\n",
        "        {\"role\": \"user\", \"content\": f\"Consider this article: {article} Please create a summary\"}\n",
        "    ]\n",
        ")\n",
        "\n",
        "print(response.choices[0].message.content)"
      ],
      "outputs": [],
      "execution_count": null,
      "metadata": {}
    },
    {
      "cell_type": "markdown",
      "source": [
        "**USE YOUR OWN DATA** - From guide https://learn.microsoft.com/en-us/azure/ai-services/openai/use-your-data-quickstart?tabs=command-line%2Cpython-new&pivots=programming-language-python "
      ],
      "metadata": {
        "nteract": {
          "transient": {
            "deleting": false
          }
        }
      }
    },
    {
      "cell_type": "code",
      "source": [
        "import os\n",
        "import openai\n",
        "import dotenv\n",
        "\n",
        "dotenv.load_dotenv()\n",
        "\n",
        "endpoint = os.environ.get(\"AZURE_OPENAI_ENDPOINT\")\n",
        "api_key = os.environ.get(\"AZURE_OPENAI_API_KEY\")\n",
        "deployment = os.environ.get(\"AZURE_OPENAI_DEPLOYMENT_ID\")\n",
        "\n",
        "client = openai.AzureOpenAI(\n",
        "    azure_endpoint=endpoint,\n",
        "    api_key=api_key,\n",
        "    api_version=\"2024-02-01\",\n",
        ")\n",
        "\n",
        "completion = client.chat.completions.create(\n",
        "    model=deployment,\n",
        "    messages=[\n",
        "        {\n",
        "            \"role\": \"user\",\n",
        "            \"content\": \"Summarize the race\",\n",
        "        },\n",
        "    ],\n",
        "    extra_body={\n",
        "        \"data_sources\":[\n",
        "            {\n",
        "                \"type\": \"azure_search\",\n",
        "                \"parameters\": {\n",
        "                    \"endpoint\": os.environ[\"AZURE_AI_SEARCH_ENDPOINT\"],\n",
        "                    \"index_name\": os.environ[\"AZURE_AI_SEARCH_INDEX\"],\n",
        "                    \"authentication\": {\n",
        "                        \"type\": \"api_key\",\n",
        "                        \"key\": os.environ[\"AZURE_AI_SEARCH_API_KEY\"],\n",
        "                    }\n",
        "                }\n",
        "            }\n",
        "        ],   \n",
        "    },\n",
        "    temperature=0,\n",
        "    top_p=1,\n",
        "    max_tokens=800,\n",
        "    stop=None,\n",
        ")\n",
        "\n",
        "print(completion.model_dump_json(indent=2))"
      ],
      "outputs": [
        {
          "output_type": "stream",
          "name": "stdout",
          "text": "{\n  \"id\": \"08ad9ab8-20fe-44ad-ac54-cb9db9f223de\",\n  \"choices\": [\n    {\n      \"finish_reason\": \"stop\",\n      \"index\": 0,\n      \"message\": {\n        \"content\": \"The 2022 British Grand Prix was a thrilling and chaotic race, culminating in Carlos Sainz claiming his first Formula 1 victory for Ferrari, with Sergio Perez finishing second and Lewis Hamilton in third place [doc1][doc2]. The race featured intense battles, including Sainz's aggressive restart to claim the lead, Perez's remarkable recovery from P16 to P2, and a fierce fight between Hamilton and Leclerc [doc1][doc2]. The race also saw incidents involving multiple drivers, with some forced into retirement and others facing car damage [doc2][doc3]. Ultimately, Sainz's victory marked a special day for him and Ferrari, setting the stage for the upcoming Austrian Grand Prix at the Red Bull Ring [doc1].\\n\\n[doc1]: Ferrari's Carlos Sainz has claimed his first Formula 1 victory after a breath-taking contest at the British Grand Prix, the Spaniard finishing ahead of the Red Bull of Sergio Perez and the Mercedes of Lewis Hamilton.\\n[doc2]: Ferrari's Carlos Sainz has claimed his first Formula 1 victory after a breath-taking contest at the British Grand Prix, the Spaniard finishing ahead of the Red Bull of Sergio Perez and the Mercedes of Lewis Hamilton.\\n[doc3]: Ferrari's Carlos Sainz has claimed his first Formula 1 victory after a breath-taking contest at the British Grand Prix, the Spaniard finishing ahead of the Red Bull of Sergio Perez and the Mercedes of Lewis Hamilton.\",\n        \"role\": \"assistant\",\n        \"function_call\": null,\n        \"tool_calls\": null,\n        \"end_turn\": true,\n        \"context\": {\n          \"citations\": [\n            {\n              \"content\": \"” There were tense faces on the Ferrari pit wall, as Sainz – angered by an instruction to allow his team mate “breathing room” at the restart – ignored the instruction and instead attacked and passed into Brooklands to retake the lead, Perez passing Hamilton through The Loop for P3.\\n\\n2022 British Grand Prix: Sainz swoops past Leclerc to take race lead at Safety Car restart\\nThe action from there until the close of play was fantastic. Sainz had checked out at the front, but behind a mistake from Leclerc at Turn 18 allowed Perez and Hamilton to close up, the trio then passing and repassing each other in a fitting end to what had been a chaotic race. It was Perez, though, who had the legs, passing Hamilton into the Village Complex, with Leclerc sneaking past the Mercedes too, before that duo enjoyed a sensational duel – Leclerc brilliantly holding off Hamilton through Copse, only to be forced to cede position at Stowe.\\nThat was how the top four shook out, Sainz crossing the line 3.779s up on Perez for his first-ever victory in Formula 1 – and Ferrari’s first victory since Australia in April. Perez was delighted, if a little shell-shocked, with his recovery from P16 at one point to the P2, while the biggest cheers were reserved for Hamilton, taking P3 after a typically Hamilton-esque drive that would have gladdened the hearts of the Mercedes engineers after their work on the car’s updates.\\nLeclerc had to settle for P4 and may be left asking questions, having not been pitted himself under the Safety Car, as canny Fernando Alonso rounded out the top five on a good day for Spanish F1 fans – Norris taking P6 in front of his home crowd.\\n\\n2022 British Grand Prix: Hamilton, Pérez and Leclerc go wheel-to-wheel in 'unbelievable' three-way battle\\nVerstappen was left to fight with Mick Schumacher in his hobbled Red Bull, just holding off the German to take P7, as Schumacher scored his first F1 points. Vettel and Magnussen rounded out the top 10, Haas taking double points after a five-race drought.\\nStroll made it up from P20 to P11, ahead of Latifi – who stopped on the start-finish straight at the race end – with Ricciardo P13 after a tough, four-pit-stop afternoon, with Tsunoda classified 14th and last.\\nBut after the second-longest wait for a win in Formula 1 history, it was Sainz who was the main man today – although, after some team radio dynamite between their two drivers, it might be an interesting debrief at Ferrari on Sunday evening…\\n\\nThe key quote\\n“I don't know what to say. It's amazing. I mean, first race win, 150 races later, with Ferrari, in Silverstone. I cannot ask for more. It's a very special day, a day that I will never forget, a very special weekend in general, and yes, thank you everyone for your support, for your cheers. Lewis was on it today, I heard. It was one of his days, but we managed to hold on and I'm incredibly happy” – Carlos Sainz, Ferrari\\nWhat’s next?\\nHold onto your hats because we’re going trans-European as we prepare for the Austrian Grand Prix at the Red Bull Ring next weekend – that’s July 8-10. As the circuit name suggests, this is Red Bull’s home turf – but can anyone destabilise the Bulls around the undulating track nestled in the Styrian Alps? Tune in next week to find out\",\n              \"title\": \"Ferrari's Carlos Sainz has claimed his first Formula 1 victory after a breath-taking contest at the British Grand Prix, the Spaniard finishing ahead of the Red Bull of Sergio Perez and the Mercedes of Lewis Hamilton.\",\n              \"url\": \"https://bootcamp0257050611.blob.core.windows.net/fileupload-bootcamp/F1%20Report.docx\",\n              \"filepath\": \"F1 Report.docx\",\n              \"chunk_id\": \"0\"\n            },\n            {\n              \"content\": \"Ferrari's Carlos Sainz has claimed his first Formula 1 victory after a breath-taking contest at the British Grand Prix, the Spaniard finishing ahead of the Red Bull of Sergio Perez and the Mercedes of Lewis Hamilton.\\nKey to Sainz’s victory was a late Safety Car caused by Esteban Ocon retiring his Alpine – Sainz then attacking team mate Charles Leclerc on fresh tyres at the restart to claim P1 and check out for his first win on his 150th Grand Prix start.\\nThe action was frenetic in the final laps, however, with Perez – who’d dropped to P16 after a pit stop, having had contact at the early race restart following a red-flag stoppage – coming out on top in a thrilling fight with Hamilton and Ferrari's Charles Leclerc to take an unlikely P2.\\nHamilton, meanwhile, delighted the crowd with his second straight podium and 13th at Silverstone - an all-time record at a single venue - in P3.\\nThe drama that caused that early red flag came at the original race start, with Alfa Romeo's Zhou Guanyu and Williams' Alex Albon both taken to the medical centre after separate Turn 1 incidents – with Zhou later released, as Albon was transferred to nearby Coventry Hospital for precautionary checks, with those two, plus Mercedes' George Russell, forced into retirement following the incidents.\\n\\nLeclerc was forced to take P4, having led for large parts of the race, finishing ahead of the Alpine of Fernando Alonso and the McLaren of Lando Norris.\\nChampionship leader Max Verstappen could only take P7, the early race leader having suffered some form of damage that hobbled his Red Bull, the Dutchman holding off the Haas of Mick Schumacher in the final laps, as the German scored his first points in F1 in P8.\\nAston Martin's Sebastian Vettel and Haas's Kevin Magnussen rounded out the top 10, with Lance Stroll 11th in the second Aston Martin, ahead of Williams' Nicholas Latifi, McLaren's Daniel Ricciardo and AlphaTauri's Yuki Tsunoda – on what was a red-letter day for Carlos Sainz.\\n\\nAS IT HAPPENED\\nOnce Sebastian Vettel had delighted fans with a carbon neutral-fuelled demo run in the 1992 Williams FW14B that he owns, and the grid full of celebrities – including Tom Cruise, Stormzy and the FW14B’s original driver, Nigel Mansell – had been escorted to safety, it was time for the real business of racing to get under way.\\nIt wasn’t raining as it was during qualifying on Saturday, but it wasn’t exactly bright sunshine – menacing clouds looming with intent and a strong wind blowing. Race control had the risk of rain at 20% – but the clouds soon dissipated, leaving us with a dry race.\\nVerstappen nailed the start from P2, having opted for soft tyres compared to pole-sitter Sainz on the mediums to claim the lead, as Hamilton aced his own getaway to climb from P5 above Leclerc to P3. However, the red flags were soon flying after an incident at Turn 1 involving George Russell, Pierre Gasly and Zhou Guanyu, followed by a separate one down the order involving Sebastian Vettel, Esteban Ocon, Yuki Tsunoda, and Alex Albon.\\nZhou and Albon were both taken to the medical centre conscious, after what had been a pair of ugly crashes. The FIA then announced that the race would see a standing restart with the grid reset to its original positions – Zhou, Albon and Russell now ruled out of the proceedings, while those who enjoyed a good getaway first time around had it all to do again.\\n\\n2022 British Grand Prix: Conscious Zhou Guanyu taken away in ambulance following huge crash at race start\\nAfter a 45-minute stoppage, the cars reformed on the grid. As the five red lights went out for the second time on Sunday afternoon, Sainz moved over to cover the now medium-shod Verstappen, muscling him towards the wall at Turn 1, checking the Dutchman’s momentum enough to retain his lead.\\nBehind, Perez and Leclerc made contact fighting it out for P3 at Turn 4, causing damage to the Mexican’s front wing, while Norris got ahead of Hamilton to take P5 at The Loop. Leclerc, having muscled past Perez, then tried a move on Verstappen into Brooklands, Verstappen putting in a stout defence that saw Leclerc run off track – Stewards noting the incident but deciding not to issue a punishment\",\n              \"title\": \"Ferrari's Carlos Sainz has claimed his first Formula 1 victory after a breath-taking contest at the British Grand Prix, the Spaniard finishing ahead of the Red Bull of Sergio Perez and the Mercedes of Lewis Hamilton.\",\n              \"url\": \"https://bootcamp0257050611.blob.core.windows.net/fileupload-bootcamp/F1%20Report.docx\",\n              \"filepath\": \"F1 Report.docx\",\n              \"chunk_id\": \"1\"\n            },\n            {\n              \"content\": \"Perez was clearly hobbled, and was forced to dive into the pits on Lap 5 for a new nose and another set of medium tyres, the Mexican dropping from P4 to P16. Up front, Verstappen had his blood up and was starting to reel in Sainz after the Spaniard’s aggressive restart. “He’s a bit quicker,” Sainz told his team. He was indeed – but Sainz made Verstappen’s extra pace academic when he had a wobble on the exit of Maggots/Becketts and ran off track, allowing Verstappen an easy pass.\\nBehind, meanwhile, the AlphaTauris performed a neat double pirouette after Tsunoda lost the back end of his car at Turn 3 and hit Gasly, both rotating and then carrying on – with Tsunoda given a five-second penalty for causing a collision. Gasly would later be forced into retirement.\\n\\n2022 British Grand Prix: AlphaTauri team mates Gasly and Tsunoda crash at Silverstone\\nLap 12 and Sainz was back in front. Verstappen felt he’d run over some carbon and, fearing a puncture, dived straight into the pits, having seen the two Ferraris of Sainz and Leclerc breeze past. A new set of mediums were administered and he emerged P6, but was still unhappy with the car – the team confirming he’d suffered bodywork damage that would compromise his performance, but which wasn’t safety-critical, despite Verstappen’s claims that the car was “100% broken”.\\nWith Verstappen out of the picture at the front, the battle to watch was now the Ferrari team mates Sainz and Leclerc up front – Leclerc becoming increasingly frustrated behind the race-leading Spaniard, who he said was “****ing up his race”, with the Mercedes of Hamilton becoming larger and larger in the Monegasque’s mirrors.\\nFerrari’s solution was to bring Sainz in on Lap 20 for new hards, allowing Leclerc free air, Sainz remerging in P3 just in front of Lando Norris. It was now Hammer Time, shades of 12 months ago as Hamilton – the W13 upgrades seemingly working sweetly – steadily reeled in Leclerc, the Ferrari driver having suffered some front wing damage in his restart contact with Perez.\\nLeclerc was brought into the pits on Lap 25, emerging back behind Sainz in P3 as Hamilton took the lead of a race for the first time in 2022. That meant the order at the halfway point on Lap 26 of 52 was Hamilton from Sainz and Leclerc, followed by Norris in P4, then Alonso, Perez, Vettel, Verstappen – who’d pitted again for hards on Lap 23 but was complaining that handling his RB18 was like “driving on ice” – with Nicholas Latifi holding on in P9 ahead of Esteban Ocon.\\n\\nLeclerc was getting frustrated behind Sainz\\nHamilton was setting stirring pace on his aging medium tyres at the front, as he tried to make his overcut work on the Ferraris. On Lap 31, Sainz was ordered to move over, having not matched the pace delta the team had set, with Leclerc released into P2. Despite the fact that Hamilton was 18s up the road from Leclerc, this virtual race was tense stuff, as the engineers’ prediction software on the pit walls and back at mission control crunched crucial numbers.\\n“I can’t maintain this pace forever,” said Hamilton, and Mercedes took pity on Lap 33, bringing him in for hards on what was a sluggish 4.3s stop, with an issue on the rear-left. He emerged third, around 4s behind Leclerc and Sainz – and not hugely impressed at that fact.\\nVerstappen’s miserable afternoon saw him overtaken by Esteban Ocon for P8 on Lap 38. Verstappen then repaid the favour, but it was too easy – and indeed, Ocon was slowing, eventually pulling up just before Copse and bringing out a Safety Car. Sainz and Hamilton immediately dived into the pits, leaving Leclerc out front on his used hards – all drivers except Magnussen and the Monegasque pitting.\\nRacing got going on Lap 43 of 52, with Sainz cannily reminding Ferrari: “I’m going to be much faster than Charles\",\n              \"title\": \"Ferrari's Carlos Sainz has claimed his first Formula 1 victory after a breath-taking contest at the British Grand Prix, the Spaniard finishing ahead of the Red Bull of Sergio Perez and the Mercedes of Lewis Hamilton.\",\n              \"url\": \"https://bootcamp0257050611.blob.core.windows.net/fileupload-bootcamp/F1%20Report.docx\",\n              \"filepath\": \"F1 Report.docx\",\n              \"chunk_id\": \"2\"\n            }\n          ],\n          \"intent\": \"[\\\"Summarize the race\\\"]\"\n        }\n      }\n    }\n  ],\n  \"created\": 1718810641,\n  \"model\": \"gpt-35-turbo\",\n  \"object\": \"extensions.chat.completion\",\n  \"system_fingerprint\": \"fp_811936bd4f\",\n  \"usage\": {\n    \"completion_tokens\": 306,\n    \"prompt_tokens\": 6525,\n    \"total_tokens\": 6831\n  }\n}\n"
        }
      ],
      "execution_count": 18,
      "metadata": {
        "jupyter": {
          "source_hidden": false,
          "outputs_hidden": false
        },
        "nteract": {
          "transient": {
            "deleting": false
          }
        },
        "gather": {
          "logged": 1718810642335
        }
      }
    },
    {
      "cell_type": "markdown",
      "source": [
        "**CODE INTERPRETER**"
      ],
      "metadata": {
        "nteract": {
          "transient": {
            "deleting": false
          }
        }
      }
    },
    {
      "cell_type": "code",
      "source": [
        "import os\n",
        "import time\n",
        "import json\n",
        "from openai import AzureOpenAI\n",
        "    \n",
        "client = AzureOpenAI(\n",
        "    api_key=os.environ.get(\"AZURE_OPENAI_API_KEY\"),\n",
        "    api_version=\"2024-02-15-preview\",\n",
        "    azure_endpoint = os.environ.get(\"AZURE_OPENAI_ENDPOINT\")\n",
        "    )\n",
        "\n",
        "# Upload a file with an \"assistants\" purpose\n",
        "file = client.files.create(\n",
        "  file=open(\"Formula1_2022season_raceResults.csv\", \"rb\"),\n",
        "  purpose='assistants'\n",
        ")\n",
        "\n",
        "# Create an assistant using the file ID\n",
        "assistant = client.beta.assistants.create(\n",
        "  instructions=\"You are an AI assistant that answers questions on formula 1 race data\",\n",
        "  model=os.environ.get(\"AZURE_OPENAI_DEPLOYMENT_ID\"),\n",
        "  tools=[{\"type\": \"code_interpreter\"}],\n",
        "  file_ids=[file.id]\n",
        ")"
      ],
      "outputs": [],
      "execution_count": 34,
      "metadata": {
        "jupyter": {
          "source_hidden": false,
          "outputs_hidden": false
        },
        "nteract": {
          "transient": {
            "deleting": false
          }
        },
        "gather": {
          "logged": 1718813479633
        }
      }
    },
    {
      "cell_type": "code",
      "source": [
        "def askCodeInterpreter(prompt):\n",
        "    # Create a thread\n",
        "    thread = client.beta.threads.create()\n",
        "\n",
        "    # Add a user question to the thread\n",
        "    message = client.beta.threads.messages.create(\n",
        "        thread_id=thread.id,\n",
        "        role=\"user\",\n",
        "        content=prompt # Use the prompt from the function argument\n",
        "    )\n",
        "\n",
        "    # Run the thread\n",
        "    run = client.beta.threads.runs.create(\n",
        "      thread_id=thread.id,\n",
        "      assistant_id=assistant.id\n",
        "    )\n",
        "\n",
        "    # Looping until the run completes or fails\n",
        "    while run.status in ['queued', 'in_progress', 'cancelling']:\n",
        "        time.sleep(1)\n",
        "        run = client.beta.threads.runs.retrieve(\n",
        "            thread_id=thread.id,\n",
        "            run_id=run.id\n",
        "        )\n",
        "\n",
        "    if run.status == 'completed':\n",
        "      messages = client.beta.threads.messages.list(\n",
        "        thread_id=thread.id\n",
        "      )\n",
        "      print(messages)\n",
        "    elif run.status == 'requires_action':\n",
        "      # the assistant requires calling some functions\n",
        "      # and submit the tool outputs back to the run\n",
        "      pass\n",
        "    else:\n",
        "      print(run.status)"
      ],
      "outputs": [],
      "execution_count": 35,
      "metadata": {
        "jupyter": {
          "source_hidden": false,
          "outputs_hidden": false
        },
        "nteract": {
          "transient": {
            "deleting": false
          }
        },
        "gather": {
          "logged": 1718813482573
        }
      }
    },
    {
      "cell_type": "code",
      "source": [
        "askCodeInterpreter(f\"Tell me about the dataset\")"
      ],
      "outputs": [
        {
          "output_type": "stream",
          "name": "stdout",
          "text": "SyncCursorPage[ThreadMessage](data=[ThreadMessage(id='msg_mm1XpbJqOyrz0i14vCz4Mf9u', assistant_id='asst_OyRl16svxwnuzWBMVEzodTdk', content=[MessageContentText(text=Text(annotations=[], value=\"The dataset contains the following columns:\\n\\n1. Track: The name of the race track\\n2. Position: The finishing position of the driver in the race\\n3. No: The race number of the driver\\n4. Driver: The name of the driver\\n5. Team: The team the driver is racing for\\n6. Starting Grid: The starting position of the driver on the grid\\n7. Laps: The number of laps completed by the driver in the race\\n8. Time/Retired: The time or status of the driver at the end of the race\\n9. Points: The points earned by the driver in the race\\n10. +1 Pt: Indicates whether the driver earned an extra point\\n11. Fastest Lap: The time of the driver's fastest lap in the race\\n\\nThis dataset provides information about the finishing positions, times, and other performance indicators of drivers in Formula 1 races.\"), type='text')], created_at=1718811631, file_ids=[], metadata={}, object='thread.message', role='assistant', run_id='run_ANo4avrb8hY2MdNHFdfddwqi', thread_id='thread_xQbKfjldCObz2fDfNr5qtybt'), ThreadMessage(id='msg_cq5G3TTNE9UUfQJ8LIaGtqk1', assistant_id=None, content=[MessageContentText(text=Text(annotations=[], value='Tell me about the dataset'), type='text')], created_at=1718811627, file_ids=[], metadata={}, object='thread.message', role='user', run_id=None, thread_id='thread_xQbKfjldCObz2fDfNr5qtybt')], object='list', first_id='msg_mm1XpbJqOyrz0i14vCz4Mf9u', last_id='msg_cq5G3TTNE9UUfQJ8LIaGtqk1', has_more=False)\n"
        }
      ],
      "execution_count": 23,
      "metadata": {
        "jupyter": {
          "source_hidden": false,
          "outputs_hidden": false
        },
        "nteract": {
          "transient": {
            "deleting": false
          }
        },
        "gather": {
          "logged": 1718811634148
        }
      }
    },
    {
      "cell_type": "code",
      "source": [
        "askCodeInterpreter(f\"which driver received the most points\")"
      ],
      "outputs": [
        {
          "output_type": "stream",
          "name": "stdout",
          "text": "SyncCursorPage[ThreadMessage](data=[ThreadMessage(id='msg_MEYX6HR3kjuUepTUg9idnERJ', assistant_id='asst_OyRl16svxwnuzWBMVEzodTdk', content=[MessageContentText(text=Text(annotations=[], value='The driver who received the most points is Max Verstappen.'), type='text')], created_at=1718811669, file_ids=[], metadata={}, object='thread.message', role='assistant', run_id='run_moauJT0LwfPcRnPGu5aVzvuL', thread_id='thread_DexdKQtAQEaphTiXVkczhREo'), ThreadMessage(id='msg_AjWTZTl3vCVD6kRjpghEtBlr', assistant_id='asst_OyRl16svxwnuzWBMVEzodTdk', content=[MessageContentText(text=Text(annotations=[], value='It looks like the column names in the file are different than what I expected. The driver\\'s name is under the \"Driver\" column, and the points are under the \"Points\" column. Let me now calculate which driver received the most points.'), type='text')], created_at=1718811667, file_ids=[], metadata={}, object='thread.message', role='assistant', run_id='run_moauJT0LwfPcRnPGu5aVzvuL', thread_id='thread_DexdKQtAQEaphTiXVkczhREo'), ThreadMessage(id='msg_BxTDcDM1dCloE9Mb7IFiHSM9', assistant_id='asst_OyRl16svxwnuzWBMVEzodTdk', content=[MessageContentText(text=Text(annotations=[], value='It seems that the column names in the file are different from what I expected. Let me first take a look at the columns in the file to determine the correct column names.'), type='text')], created_at=1718811666, file_ids=[], metadata={}, object='thread.message', role='assistant', run_id='run_moauJT0LwfPcRnPGu5aVzvuL', thread_id='thread_DexdKQtAQEaphTiXVkczhREo'), ThreadMessage(id='msg_nbtlGUIkinFqtoysHBk1mQ77', assistant_id=None, content=[MessageContentText(text=Text(annotations=[], value='which driver received the most points'), type='text')], created_at=1718811659, file_ids=[], metadata={}, object='thread.message', role='user', run_id=None, thread_id='thread_DexdKQtAQEaphTiXVkczhREo')], object='list', first_id='msg_MEYX6HR3kjuUepTUg9idnERJ', last_id='msg_nbtlGUIkinFqtoysHBk1mQ77', has_more=False)\n"
        }
      ],
      "execution_count": 24,
      "metadata": {
        "jupyter": {
          "source_hidden": false,
          "outputs_hidden": false
        },
        "nteract": {
          "transient": {
            "deleting": false
          }
        },
        "gather": {
          "logged": 1718811671103
        }
      }
    },
    {
      "cell_type": "code",
      "source": [
        "askCodeInterpreter(f\"draw me a graph showing the points per race gained by each driver across the seassion so I can see their points accumulation and the performance though the season. Give each driver a different colour\")"
      ],
      "outputs": [
        {
          "output_type": "stream",
          "name": "stdout",
          "text": "SyncCursorPage[ThreadMessage](data=[ThreadMessage(id='msg_rP3UUwawjcJ67hrh8cdoAvis', assistant_id='asst_oolbnczVlVJHxMz4TVR4myrP', content=[MessageContentImageFile(image_file=ImageFile(file_id='assistant-YgJnoMFC12VsdXRD4fIN0veT'), type='image_file'), MessageContentText(text=Text(annotations=[], value=\"Here is the graph showing the points per race gained by each driver across the season. Each driver is represented by a different color, allowing you to easily compare their points accumulation and performance throughout the season.\\n\\nThe x-axis represents the race number, while the y-axis represents the points accumulated by each driver. From the graph, you can observe the points accumulation trends for each driver as the season progresses.\\n\\nIf you have any further questions or if there's anything else you'd like to analyze, feel free to ask!\"), type='text')], created_at=1718813509, file_ids=[], metadata={}, object='thread.message', role='assistant', run_id='run_DcMpqvZSvJLrj3WLi0FVP8Ja', thread_id='thread_W073FnBryqRLw5AN53CD5whC'), ThreadMessage(id='msg_bNocy1OryBXJW1sIirFkNrgk', assistant_id='asst_oolbnczVlVJHxMz4TVR4myrP', content=[MessageContentText(text=Text(annotations=[], value='The points accumulation for each driver in each race has been calculated and added as a new column in the dataframe.\\n\\nNext, I will proceed to create a graph showing the points per race gained by each driver across the season, with each driver represented by a different color.'), type='text')], created_at=1718813499, file_ids=[], metadata={}, object='thread.message', role='assistant', run_id='run_DcMpqvZSvJLrj3WLi0FVP8Ja', thread_id='thread_W073FnBryqRLw5AN53CD5whC'), ThreadMessage(id='msg_vWJ8lrZjvvvWBnZZUiHIY1xt', assistant_id='asst_oolbnczVlVJHxMz4TVR4myrP', content=[MessageContentText(text=Text(annotations=[], value=\"The data consists of race results for each driver, including information such as the track, position, driver's number, driver's name, team, starting grid, laps completed, time/retired, points earned, whether they achieved the fastest lap, and the time for the fastest lap.\\n\\nTo create a graph showing the points per race gained by each driver across the season, I will need to aggregate the data to calculate the points accumulated by each driver in each race throughout the season. Then, I will plot the points accumulation for each driver using a line graph, with each driver represented by a different color.\\n\\nLet me start by processing the data to calculate the points accumulated by each driver in each race.\"), type='text')], created_at=1718813491, file_ids=[], metadata={}, object='thread.message', role='assistant', run_id='run_DcMpqvZSvJLrj3WLi0FVP8Ja', thread_id='thread_W073FnBryqRLw5AN53CD5whC'), ThreadMessage(id='msg_s0c1s2cEnVdg8GKnmdvQJU6K', assistant_id='asst_oolbnczVlVJHxMz4TVR4myrP', content=[MessageContentText(text=Text(annotations=[], value='First, I will need to examine the contents of the file to determine the structure and the data it contains.'), type='text')], created_at=1718813488, file_ids=[], metadata={}, object='thread.message', role='assistant', run_id='run_DcMpqvZSvJLrj3WLi0FVP8Ja', thread_id='thread_W073FnBryqRLw5AN53CD5whC'), ThreadMessage(id='msg_bU3gxiezUE5clY5MKAJ2RdlP', assistant_id=None, content=[MessageContentText(text=Text(annotations=[], value='draw me a graph showing the points per race gained by each driver across the seassion so I can see their points accumulation and the performance though the season. Give each driver a different colour'), type='text')], created_at=1718813487, file_ids=[], metadata={}, object='thread.message', role='user', run_id=None, thread_id='thread_W073FnBryqRLw5AN53CD5whC')], object='list', first_id='msg_rP3UUwawjcJ67hrh8cdoAvis', last_id='msg_bU3gxiezUE5clY5MKAJ2RdlP', has_more=False)\n"
        }
      ],
      "execution_count": 36,
      "metadata": {
        "jupyter": {
          "source_hidden": false,
          "outputs_hidden": false
        },
        "nteract": {
          "transient": {
            "deleting": false
          }
        },
        "gather": {
          "logged": 1718813510896
        }
      }
    },
    {
      "cell_type": "code",
      "source": [
        "from openai import AzureOpenAI\n",
        "    \n",
        "client = AzureOpenAI(\n",
        "    api_key=os.environ.get(\"AZURE_OPENAI_API_KEY\"),\n",
        "    api_version=\"2024-02-15-preview\",\n",
        "    azure_endpoint = os.environ.get(\"AZURE_OPENAI_ENDPOINT\")\n",
        "    )\n",
        "\n",
        "image_data = client.files.content(\"assistant-YgJnoMFC12VsdXRD4fIN0veT\")\n",
        "image_data_bytes = image_data.read()\n",
        "\n",
        "with open(\"./my-image.png\", \"wb\") as file:\n",
        "    file.write(image_data_bytes)"
      ],
      "outputs": [],
      "execution_count": 37,
      "metadata": {
        "jupyter": {
          "source_hidden": false,
          "outputs_hidden": false
        },
        "nteract": {
          "transient": {
            "deleting": false
          }
        },
        "gather": {
          "logged": 1718813530716
        }
      }
    }
  ],
  "metadata": {
    "kernel_info": {
      "name": "openai_env"
    },
    "kernelspec": {
      "name": "openai_env",
      "language": "python",
      "display_name": "Python openai_env"
    },
    "language_info": {
      "name": "python",
      "version": "3.10.14",
      "mimetype": "text/x-python",
      "codemirror_mode": {
        "name": "ipython",
        "version": 3
      },
      "pygments_lexer": "ipython3",
      "nbconvert_exporter": "python",
      "file_extension": ".py"
    },
    "microsoft": {
      "ms_spell_check": {
        "ms_spell_check_language": "en"
      },
      "host": {
        "AzureML": {
          "notebookHasBeenCompleted": true
        }
      }
    },
    "nteract": {
      "version": "nteract-front-end@1.0.0"
    }
  },
  "nbformat": 4,
  "nbformat_minor": 2
}