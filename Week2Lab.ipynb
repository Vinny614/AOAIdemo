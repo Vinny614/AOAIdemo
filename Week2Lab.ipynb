{
  "cells": [
    {
      "cell_type": "code",
      "source": [
        "First make sure you have created an AML environment and jupyter kernel as in the previod bootcamp sessions or from SetUpAMLEnv.ipynb.\n",
        "\n",
        "Test that you have selected the correct code by running the cell below."
      ],
      "outputs": [],
      "execution_count": null,
      "metadata": {}
    },
    {
      "cell_type": "code",
      "source": [
        "import emoji\n",
        "print(emoji.emojize('Python is :thumbs_up:'))"
      ],
      "outputs": [],
      "execution_count": null,
      "metadata": {
        "jupyter": {
          "source_hidden": false,
          "outputs_hidden": false
        },
        "nteract": {
          "transient": {
            "deleting": false
          }
        }
      }
    },
    {
      "cell_type": "markdown",
      "source": [
        "- Create Azure OpenAI and AI Search Resources\n",
        "\n",
        "- Rename credentials_template.env to credentials.env \n",
        "\n",
        "- Fill in the credentials.env with the details of your resources"
      ],
      "metadata": {
        "nteract": {
          "transient": {
            "deleting": false
          }
        }
      }
    },
    {
      "cell_type": "code",
      "source": [
        "# Loads in environement varaibles from credentials.env. \n",
        "# Note that if you change the contents of credentials.env you will need to restart your python kernel as well as rerun this cell.\n",
        "import os\n",
        "from openai import AzureOpenAI\n",
        "from dotenv import load_dotenv\n",
        "load_dotenv(\"credentials.env\")\n",
        "\n",
        "endpoint = os.environ.get(\"AZURE_OPENAI_ENDPOINT\")\n",
        "api_key = os.environ.get(\"AZURE_OPENAI_API_KEY\")\n",
        "deployment = os.environ.get(\"AZURE_OPENAI_DEPLOYMENT_ID\")\n",
        "searchEndpoint = os.environ.get(\"AZURE_AI_SEARCH_ENDPOINT\")\n",
        "searchIndex = os.environ.get(\"AZURE_AI_SEARCH_INDEX\")\n",
        "searchKey = os.environ.get(\"AZURE_AI_SEARCH_API_KEY\")"
      ],
      "outputs": [],
      "execution_count": null,
      "metadata": {
        "jupyter": {
          "source_hidden": false,
          "outputs_hidden": false
        },
        "nteract": {
          "transient": {
            "deleting": false
          }
        }
      }
    },
    {
      "cell_type": "code",
      "source": [
        "print(\"AOAI Endpoint: \", endpoint)\n",
        "print(\"AOAI API Key: \", api_key)\n",
        "print(\"AOAI Deployment: \", deployment)\n",
        "print(\"Search Endpoint: \", searchEndpoint)\n",
        "print(\"Search Index: \", searchIndex)\n",
        "print(\"Search API Key: \", searchKey)"
      ],
      "outputs": [],
      "execution_count": null,
      "metadata": {
        "jupyter": {
          "source_hidden": false,
          "outputs_hidden": false
        },
        "nteract": {
          "transient": {
            "deleting": false
          }
        }
      }
    },
    {
      "cell_type": "code",
      "source": [
        "client = AzureOpenAI(\n",
        "    azure_endpoint=endpoint,\n",
        "    api_key=api_key,\n",
        "    api_version=\"2024-02-01\",\n",
        ")"
      ],
      "outputs": [],
      "execution_count": null,
      "metadata": {
        "jupyter": {
          "source_hidden": false,
          "outputs_hidden": false
        },
        "nteract": {
          "transient": {
            "deleting": false
          }
        }
      }
    },
    {
      "cell_type": "code",
      "source": [
        "response = client.chat.completions.create(\n",
        "    model=deployment,\n",
        "    messages=[\n",
        "        {\"role\": \"system\", \"content\": \"You are a helpful assistant.\"},\n",
        "        {\"role\": \"user\", \"content\": \"Does Azure OpenAI support customer managed keys?\"},\n",
        "        {\"role\": \"assistant\", \"content\": \"Yes, customer managed keys are supported by Azure OpenAI.\"},\n",
        "        {\"role\": \"user\", \"content\": \"Do other Azure AI services support this too?\"}\n",
        "    ]\n",
        ")\n",
        "\n",
        "print(response.choices[0].message.content)"
      ],
      "outputs": [],
      "execution_count": null,
      "metadata": {
        "jupyter": {
          "source_hidden": false,
          "outputs_hidden": false
        },
        "nteract": {
          "transient": {
            "deleting": false
          }
        }
      }
    },
    {
      "cell_type": "markdown",
      "source": [
        "article from https://www.bbc.co.uk/sport/articles/cd1qzw9qp8jo"
      ],
      "metadata": {
        "nteract": {
          "transient": {
            "deleting": false
          }
        }
      }
    },
    {
      "cell_type": "code",
      "source": [
        "article = \"\"\"Formula 1 has tweaked the format to the sprint events for the 2024 season.\n",
        "Qualifying for the shorter sprint race is now held on Friday instead of Saturday, following the only practice session of the weekend.\n",
        "The 100km sprint will then take place as the first track action on Saturday, before main qualifying for the grand prix in its regular slot later in the day.\n",
        "Sunday's race remains unchanged.\n",
        "China hosted the first sprint of the year in April and Miami the second in May. After Austria this weekend, there will also be sprints in Austin, Brazil and Qatar towards the end of the season.\n",
        "Why has the sprint format changed again?\n",
        "The schedule for sprint weekends for this season has been refreshed again in an attempt to create a better spectacle.\n",
        "In February, teams voted to keep the same sessions, but the order in which they take place has been rejigged.\n",
        "Last year, Saturday became a standalone sprint day, independent of the main grand prix, with a 'sprint shootout' added to determine who started on pole for the 100km race later that day. Qualifying for Sunday's race was held on Friday, after one hour of practice.\n",
        "The previous format for sprint weekends, which were introduced in 2021, had the Friday qualifying session setting the grid for the sprint and the result of the sprint establishing the grid for the main grand prix.\n",
        "That meant drivers were reluctant to take chances in the sprint because any errors or accidents would disproportionately harm their chances in the grand prix.\n",
        "How does the F1 sprint race work?\n",
        "The sprint shootout has three sessions - like normal qualifying - with the slowest five cars eliminated at the end of the first two. These sessions last just 12, 10 and eight minutes, respectively. The three sessions in a standard qualifying run for 18, 15 and 12 minutes.\n",
        "In the sprint race, the top eight finishers score points, from eight for first place down to one for eighth.\"\"\"\n",
        "\n",
        "response = client.chat.completions.create(\n",
        "    model=deployment,\n",
        "    messages=[\n",
        "        {\"role\": \"system\", \"content\": \"You are a helpful assistant.\"},\n",
        "        {\"role\": \"user\", \"content\": f\"Consider this article: {article} Please create a summary\"}\n",
        "    ]\n",
        ")\n",
        "\n",
        "print(response.choices[0].message.content)"
      ],
      "outputs": [],
      "execution_count": null,
      "metadata": {
        "jupyter": {
          "source_hidden": false,
          "outputs_hidden": false
        },
        "nteract": {
          "transient": {
            "deleting": false
          }
        }
      }
    },
    {
      "cell_type": "markdown",
      "source": [
        "**USE YOUR OWN DATA** - From guide https://learn.microsoft.com/en-us/azure/ai-services/openai/use-your-data-quickstart?tabs=command-line%2Cpython-new&pivots=programming-language-python"
      ],
      "metadata": {
        "nteract": {
          "transient": {
            "deleting": false
          }
        }
      }
    },
    {
      "cell_type": "code",
      "source": [
        "import os\n",
        "import openai\n",
        "import dotenv\n",
        "\n",
        "dotenv.load_dotenv()\n",
        "\n",
        "endpoint = os.environ.get(\"AZURE_OPENAI_ENDPOINT\")\n",
        "api_key = os.environ.get(\"AZURE_OPENAI_API_KEY\")\n",
        "deployment = os.environ.get(\"AZURE_OPENAI_DEPLOYMENT_ID\")\n",
        "\n",
        "client = openai.AzureOpenAI(\n",
        "    azure_endpoint=endpoint,\n",
        "    api_key=api_key,\n",
        "    api_version=\"2024-02-01\",\n",
        ")\n",
        "\n",
        "completion = client.chat.completions.create(\n",
        "    model=deployment,\n",
        "    messages=[\n",
        "        {\n",
        "            \"role\": \"user\",\n",
        "            \"content\": \"Summarize the race\",\n",
        "        },\n",
        "    ],\n",
        "    extra_body={\n",
        "        \"data_sources\":[\n",
        "            {\n",
        "                \"type\": \"azure_search\",\n",
        "                \"parameters\": {\n",
        "                    \"endpoint\": os.environ[\"AZURE_AI_SEARCH_ENDPOINT\"],\n",
        "                    \"index_name\": os.environ[\"AZURE_AI_SEARCH_INDEX\"],\n",
        "                    \"authentication\": {\n",
        "                        \"type\": \"api_key\",\n",
        "                        \"key\": os.environ[\"AZURE_AI_SEARCH_API_KEY\"],\n",
        "                    }\n",
        "                }\n",
        "            }\n",
        "        ],   \n",
        "    },\n",
        "    temperature=0,\n",
        "    top_p=1,\n",
        "    max_tokens=800,\n",
        "    stop=None,\n",
        ")\n",
        "\n",
        "print(completion.model_dump_json(indent=2))"
      ],
      "outputs": [],
      "execution_count": null,
      "metadata": {
        "jupyter": {
          "source_hidden": false,
          "outputs_hidden": false
        },
        "nteract": {
          "transient": {
            "deleting": false
          }
        }
      }
    },
    {
      "cell_type": "markdown",
      "source": [
        "**CODE INTERPRETER**"
      ],
      "metadata": {
        "nteract": {
          "transient": {
            "deleting": false
          }
        }
      }
    },
    {
      "cell_type": "code",
      "source": [
        "import os\n",
        "import time\n",
        "import json\n",
        "from openai import AzureOpenAI\n",
        "    \n",
        "client = AzureOpenAI(\n",
        "    api_key=os.environ.get(\"AZURE_OPENAI_API_KEY\"),\n",
        "    api_version=\"2024-02-15-preview\",\n",
        "    azure_endpoint = os.environ.get(\"AZURE_OPENAI_ENDPOINT\")\n",
        "    )\n",
        "\n",
        "# Upload a file with an \"assistants\" purpose\n",
        "file = client.files.create(\n",
        "  file=open(\"Formula1_2022season_raceResults.csv\", \"rb\"),\n",
        "  purpose='assistants'\n",
        ")\n",
        "\n",
        "# Create an assistant using the file ID\n",
        "assistant = client.beta.assistants.create(\n",
        "  instructions=\"You are an AI assistant that answers questions on formula 1 race data\",\n",
        "  model=os.environ.get(\"AZURE_OPENAI_DEPLOYMENT_ID\"),\n",
        "  tools=[{\"type\": \"code_interpreter\"}],\n",
        "  file_ids=[file.id]\n",
        ")"
      ],
      "outputs": [],
      "execution_count": null,
      "metadata": {
        "jupyter": {
          "source_hidden": false,
          "outputs_hidden": false
        },
        "nteract": {
          "transient": {
            "deleting": false
          }
        }
      }
    },
    {
      "cell_type": "code",
      "source": [
        "def askCodeInterpreter(prompt):\n",
        "    # Create a thread\n",
        "    thread = client.beta.threads.create()\n",
        "\n",
        "    # Add a user question to the thread\n",
        "    message = client.beta.threads.messages.create(\n",
        "        thread_id=thread.id,\n",
        "        role=\"user\",\n",
        "        content=prompt # Use the prompt from the function argument\n",
        "    )\n",
        "\n",
        "    # Run the thread\n",
        "    run = client.beta.threads.runs.create(\n",
        "      thread_id=thread.id,\n",
        "      assistant_id=assistant.id\n",
        "    )\n",
        "\n",
        "    # Looping until the run completes or fails\n",
        "    while run.status in ['queued', 'in_progress', 'cancelling']:\n",
        "        time.sleep(1)\n",
        "        run = client.beta.threads.runs.retrieve(\n",
        "            thread_id=thread.id,\n",
        "            run_id=run.id\n",
        "        )\n",
        "\n",
        "    if run.status == 'completed':\n",
        "      messages = client.beta.threads.messages.list(\n",
        "        thread_id=thread.id\n",
        "      )\n",
        "      print(messages)\n",
        "    elif run.status == 'requires_action':\n",
        "      # the assistant requires calling some functions\n",
        "      # and submit the tool outputs back to the run\n",
        "      pass\n",
        "    else:\n",
        "      print(run.status)"
      ],
      "outputs": [],
      "execution_count": null,
      "metadata": {
        "jupyter": {
          "source_hidden": false,
          "outputs_hidden": false
        },
        "nteract": {
          "transient": {
            "deleting": false
          }
        }
      }
    },
    {
      "cell_type": "code",
      "source": [
        "askCodeInterpreter(f\"Tell me about the dataset\")"
      ],
      "outputs": [],
      "execution_count": null,
      "metadata": {
        "jupyter": {
          "source_hidden": false,
          "outputs_hidden": false
        },
        "nteract": {
          "transient": {
            "deleting": false
          }
        }
      }
    },
    {
      "cell_type": "code",
      "source": [
        "askCodeInterpreter(f\"which driver received the most points\")"
      ],
      "outputs": [],
      "execution_count": null,
      "metadata": {
        "jupyter": {
          "source_hidden": false,
          "outputs_hidden": false
        },
        "nteract": {
          "transient": {
            "deleting": false
          }
        }
      }
    },
    {
      "cell_type": "code",
      "source": [
        "askCodeInterpreter(f\"draw me a graph showing the points per race gained by each driver across the seassion so I can see their points accumulation and the performance though the season. Give each driver a different colour\")"
      ],
      "outputs": [],
      "execution_count": null,
      "metadata": {
        "jupyter": {
          "source_hidden": false,
          "outputs_hidden": false
        },
        "nteract": {
          "transient": {
            "deleting": false
          }
        }
      }
    },
    {
      "cell_type": "code",
      "source": [
        "from openai import AzureOpenAI\n",
        "    \n",
        "client = AzureOpenAI(\n",
        "    api_key=os.environ.get(\"AZURE_OPENAI_API_KEY\"),\n",
        "    api_version=\"2024-02-15-preview\",\n",
        "    azure_endpoint = os.environ.get(\"AZURE_OPENAI_ENDPOINT\")\n",
        "    )\n",
        "\n",
        "image_data = client.files.content(\"find the file_id from the response (eg assistant-YgJnoMFC12VsdXRD4fIN0veT)\")\n",
        "image_data_bytes = image_data.read()\n",
        "\n",
        "with open(\"./my-image.png\", \"wb\") as file:\n",
        "    file.write(image_data_bytes)"
      ],
      "outputs": [],
      "execution_count": null,
      "metadata": {
        "jupyter": {
          "source_hidden": false,
          "outputs_hidden": false
        },
        "nteract": {
          "transient": {
            "deleting": false
          }
        }
      }
    }
  ],
  "metadata": {
    "kernelspec": {
      "name": "python310-sdkv2",
      "language": "python",
      "display_name": "Python 3.10 - SDK v2"
    },
    "language_info": {
      "name": "python",
      "version": "3.10.11",
      "mimetype": "text/x-python",
      "codemirror_mode": {
        "name": "ipython",
        "version": 3
      },
      "pygments_lexer": "ipython3",
      "nbconvert_exporter": "python",
      "file_extension": ".py"
    },
    "microsoft": {
      "ms_spell_check": {
        "ms_spell_check_language": "en"
      }
    },
    "kernel_info": {
      "name": "python310-sdkv2"
    },
    "nteract": {
      "version": "nteract-front-end@1.0.0"
    }
  },
  "nbformat": 4,
  "nbformat_minor": 2
}