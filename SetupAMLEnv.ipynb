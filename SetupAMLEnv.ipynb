{
  "cells": [
    {
      "cell_type": "markdown",
      "metadata": {
        "nteract": {
          "transient": {
            "deleting": false
          }
        }
      },
      "source": [
        "## Set up\n",
        "- Create AML workspace [Instructions](https://learn.microsoft.com/en-us/azure/machine-learning/quickstart-create-resources?view=azureml-api-2#create-the-workspace)\n",
        "- Create Compute [Instructions](https://learn.microsoft.com/en-us/azure/machine-learning/quickstart-create-resources?view=azureml-api-2#create-a-compute-instance)\n",
        "\n",
        "Open terminal in your new user  folder\n",
        "```\n",
        "git clone https://github.com/Vinny614/AOAIdemo.git\n",
        "```\n",
        "  \n",
        "Create a python environment and make it usable by Notebooks\n",
        "```\n",
        "cd AOAI_Labs\n",
        "conda create --name openai_env python=3.10  \n",
        "conda activate openai_env\n",
        "pip install ipykernel\n",
        "python -m ipykernel install --user --name openai_env --display-name \"Python openai_env\"\n",
        "pip install -r requirements.txt  \n",
        "```\n",
        "  \n",
        "Refresh Kernel List.  (Top right)\n",
        "Choose kernel: Python openai_env\n"
      ]
    },
    {
      "cell_type": "code",
      "execution_count": null,
      "metadata": {
        "gather": {
          "logged": 1715343176769
        }
      },
      "outputs": [],
      "source": [
        "import emoji\n",
        "print(emoji.emojize('Python is :thumbs_up:'))"
      ]
    }
  ],
  "metadata": {
    "kernel_info": {
      "name": "openai_env"
    },
    "kernelspec": {
      "display_name": "openai_env",
      "language": "python",
      "name": "python3"
    },
    "language_info": {
      "codemirror_mode": {
        "name": "ipython",
        "version": 3
      },
      "file_extension": ".py",
      "mimetype": "text/x-python",
      "name": "python",
      "nbconvert_exporter": "python",
      "pygments_lexer": "ipython3",
      "version": "3.10.14"
    },
    "microsoft": {
      "ms_spell_check": {
        "ms_spell_check_language": "en"
      }
    },
    "nteract": {
      "version": "nteract-front-end@1.0.0"
    }
  },
  "nbformat": 4,
  "nbformat_minor": 2
}
